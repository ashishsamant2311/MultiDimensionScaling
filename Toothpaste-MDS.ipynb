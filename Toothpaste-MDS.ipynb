{
 "cells": [
  {
   "cell_type": "code",
   "execution_count": 5,
   "metadata": {
    "id": "RvDKPvH9JvGU"
   },
   "outputs": [],
   "source": [
    "import pandas as pd\n",
    "import numpy as np\n",
    "from sklearn import manifold #this is where your mds library are located\n",
    "import matplotlib.pyplot as plt"
   ]
  },
  {
   "cell_type": "code",
   "execution_count": 6,
   "metadata": {
    "colab": {
     "base_uri": "https://localhost:8080/"
    },
    "id": "FQ1sDXdaJ7PI",
    "outputId": "6ec30567-70e5-4ccb-8a02-36640fcc1281"
   },
   "outputs": [
    {
     "name": "stdout",
     "output_type": "stream",
     "text": [
      "              Aqua-Fresh  Crest  Colgate  Gleem  Plus White  Ultra Brite  \\\n",
      "Similarities                                                               \n",
      "Aqua-Fresh             0      6        7      3           3            3   \n",
      "Crest                  6      0        7      3           4            2   \n",
      "Colgate                7      7        0      5           4            2   \n",
      "Gleem                  3      3        5      0           5            6   \n",
      "Plus White             3      4        4      5           0            5   \n",
      "Ultra Brite            3      2        2      6           5            0   \n",
      "Close-Up               3      3        3      6           6            6   \n",
      "Pepsodent              2      2        2      7           7            7   \n",
      "Sensodyne              1      3        5      4           4            4   \n",
      "\n",
      "              Close-Up  Pepsodent  Sensodyne  \n",
      "Similarities                                  \n",
      "Aqua-Fresh           3          2          1  \n",
      "Crest                3          2          3  \n",
      "Colgate              3          2          5  \n",
      "Gleem                6          7          4  \n",
      "Plus White           6          7          4  \n",
      "Ultra Brite          6          7          4  \n",
      "Close-Up             0          7          5  \n",
      "Pepsodent            7          0          4  \n",
      "Sensodyne            5          4          0  \n"
     ]
    }
   ],
   "source": [
    "data= pd.read_excel(\"Toothpaste.xlsx\",index_col='Similarities')\n",
    "print(data)"
   ]
  },
  {
   "cell_type": "code",
   "execution_count": 7,
   "metadata": {},
   "outputs": [
    {
     "data": {
      "text/plain": [
       "(9, 9)"
      ]
     },
     "execution_count": 7,
     "metadata": {},
     "output_type": "execute_result"
    }
   ],
   "source": [
    "data.shape"
   ]
  },
  {
   "cell_type": "code",
   "execution_count": 8,
   "metadata": {
    "id": "zQBy7m-vKLDq"
   },
   "outputs": [],
   "source": [
    "#Create the MDS using 2 components and use the precomputed matrix as input\n",
    "mds=manifold.MDS(n_components=2,metric=False,dissimilarity=\"precomputed\",random_state=42)\n",
    "results=mds.fit(data.values) #converts the pnadas to numpy array"
   ]
  },
  {
   "cell_type": "code",
   "execution_count": 10,
   "metadata": {
    "colab": {
     "base_uri": "https://localhost:8080/"
    },
    "id": "FD4U3KTaKfRI",
    "outputId": "4d417299-fa73-4806-b409-f4173c596d86"
   },
   "outputs": [
    {
     "name": "stdout",
     "output_type": "stream",
     "text": [
      "Index(['Aqua-Fresh', 'Crest', 'Colgate', 'Gleem', 'Plus White', 'Ultra Brite',\n",
      "       'Close-Up', 'Pepsodent', 'Sensodyne'],\n",
      "      dtype='object')\n"
     ]
    }
   ],
   "source": [
    "#Give the names of the columns to the variables \n",
    "#Used for labelling the perceptual maps later on\n",
    "toothpaste= data.columns\n",
    "print(toothpaste)"
   ]
  },
  {
   "cell_type": "code",
   "execution_count": 11,
   "metadata": {
    "colab": {
     "base_uri": "https://localhost:8080/"
    },
    "id": "C-T6Lw6cLCnK",
    "outputId": "b2673131-708a-44a5-db79-18cd89334b6e"
   },
   "outputs": [
    {
     "name": "stdout",
     "output_type": "stream",
     "text": [
      "[[ 0.05830677  0.38300181]\n",
      " [ 0.33625364 -0.01867796]\n",
      " [-0.2854613  -0.27410619]\n",
      " [-0.29198147  0.14837084]\n",
      " [ 0.31845845  0.29219309]\n",
      " [-0.28790822  0.38472563]\n",
      " [ 0.59591347 -0.42523942]\n",
      " [-0.30325863 -0.56866093]\n",
      " [-0.10627702 -0.01939162]]\n"
     ]
    }
   ],
   "source": [
    "#These are the final cordinates for various brekfast\n",
    "coords =results.embedding_\n",
    "print(coords)"
   ]
  },
  {
   "cell_type": "code",
   "execution_count": 22,
   "metadata": {
    "colab": {
     "base_uri": "https://localhost:8080/",
     "height": 518
    },
    "id": "yRt2PChVLQ6p",
    "outputId": "2e19ec28-fc4c-40e1-cd44-a23975710c95"
   },
   "outputs": [
    {
     "name": "stdout",
     "output_type": "stream",
     "text": [
      "sklearn stress: 1.0390428686322237\n",
      "This stress value is not normalized\n"
     ]
    },
    {
     "data": {
      "image/png": "[encoded data removed]",
      "text/plain": [
       "<Figure size 576x576 with 1 Axes>"
      ]
     },
     "metadata": {
      "needs_background": "light"
     },
     "output_type": "display_data"
    }
   ],
   "source": [
    "#sklearn stress - Kruskal's stress\n",
    "stress= mds.stress_\n",
    "print(\"sklearn stress: {}\".format(stress))\n",
    "print(\"This stress value is not normalized\")\n",
    "#To normalize the stress you have to divide by sum of Dij^2\n",
    "#Plotting the figures\n",
    "fig=plt.figure(figsize=(8,8))\n",
    "plt.scatter(coords[:,0],coords[:,1])\n",
    "\n",
    "plt.axvline(x = 0, color = 'r', linestyle='dashed')\n",
    "plt.axhline(y = 0, color = 'r', linestyle='dashed')\n",
    "\n",
    "plt.xlabel(\"<-- Taste & Freshness -->\", fontsize=12)\n",
    "plt.ylabel(\"<-- Protection & Whitening -->\", fontsize=12)\n",
    "\n",
    "for label,x,y in zip (toothpaste,coords[:,0],coords[:,1]):\n",
    "  plt.annotate(\n",
    "      label,\n",
    "      xy=(x,y),\n",
    "      xytext=(-5,5),\n",
    "      textcoords ='offset points'\n",
    "  )\n",
    "plt.show()"
   ]
  },
  {
   "cell_type": "code",
   "execution_count": null,
   "metadata": {
    "id": "MZQ1TTtWMR8t"
   },
   "outputs": [],
   "source": []
  }
 ],
 "metadata": {
  "colab": {
   "collapsed_sections": [],
   "name": "Non_Metric_Breakfast.ipynb",
   "provenance": []
  },
  "kernelspec": {
   "display_name": "Python 3 (ipykernel)",
   "language": "python",
   "name": "python3"
  },
  "language_info": {
   "codemirror_mode": {
    "name": "ipython",
    "version": 3
   },
   "file_extension": ".py",
   "mimetype": "text/x-python",
   "name": "python",
   "nbconvert_exporter": "python",
   "pygments_lexer": "ipython3",
   "version": "3.9.7"
  }
 },
 "nbformat": 4,
 "nbformat_minor": 1
}
